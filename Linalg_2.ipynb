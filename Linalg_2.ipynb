{
 "cells": [
  {
   "cell_type": "code",
   "execution_count": 1,
   "metadata": {},
   "outputs": [],
   "source": [
    "# Task 1.1\n",
    "\n",
    "# a - не получится перемножить матрицы\n",
    "# б - можем вычислить произведение мтрицы А на В с размерностью 2*3\n",
    "# в - можно вычислить произведение АВ с размерностью 8*8 и произведение ВА с размерностью 3*3\n",
    "# г - можно вычислить произведения АВ и ВА - обе с размерностью 4*4"
   ]
  },
  {
   "cell_type": "code",
   "execution_count": 1,
   "metadata": {},
   "outputs": [
    {
     "data": {
      "text/plain": [
       "array([[ 1, -8],\n",
       "       [15,  0]])"
      ]
     },
     "execution_count": 1,
     "metadata": {},
     "output_type": "execute_result"
    }
   ],
   "source": [
    "# Task 1.2\n",
    "\n",
    "import numpy as np\n",
    "\n",
    "\n",
    "A = [[1, -2], [3, 0]]\n",
    "B = [[4, -1], [0, 5]]\n",
    "\n",
    "\n",
    "def transpose(B):\n",
    "    new_B = []\n",
    "    for j, vj in enumerate(range(len(B[0]))):\n",
    "        new_B_i = []\n",
    "        for i, vi in enumerate(B):\n",
    "            new_B_i.append(B[i][vj])\n",
    "        new_B.append(new_B_i)\n",
    "    return new_B\n",
    "\n",
    "\n",
    "def m_sum(A, B):\n",
    "    C = []\n",
    "    if len(A) == len(B) and len(A[0]) == len(B[0]):\n",
    "        for i in range(len(A)):\n",
    "            line = []\n",
    "            for j in range(len(A[i])):\n",
    "                val = A[i][j] + B[i][j]\n",
    "                line.append(val)\n",
    "            C.append(line)\n",
    "        return C\n",
    "    else:\n",
    "        return print('You are not allowed to sum these matrixes')\n",
    "\n",
    "\n",
    "def multiply(A, B):\n",
    "    matrix = []\n",
    "    for i in range(len(A)):\n",
    "        line = []\n",
    "        for q in range(len(B[0])):\n",
    "            val = int()\n",
    "            for j in range(len(A[i])):\n",
    "                int_val = A[i][j] * B[j][q]\n",
    "                val += int_val\n",
    "            line.append(val)\n",
    "        matrix.append(line)\n",
    "    if len(A[0]) == len(B):\n",
    "        return matrix\n",
    "    else:\n",
    "        return print('You are not allowed to multiply such matrixes')\n",
    "\n",
    "    \n",
    "def const_multiply(n, A):\n",
    "    matrix = []\n",
    "    for i in range(len(A)):\n",
    "        line = []\n",
    "        for j in range(len(A[i])):\n",
    "            val = n * A[i][j]\n",
    "            line.append(val)\n",
    "        matrix.append(line)\n",
    "    return matrix\n",
    "\n",
    "\n",
    "transpose(A)\n",
    "m_sum(A, B)\n",
    "multiply(A, B)\n",
    "multiply(B, A)\n",
    "\n",
    "\n",
    "# Проверка через NumPy\n",
    "\n",
    "A1 = np.array([[1, -2], [3, 0]])\n",
    "B1 = np.array([[4, -1], [0, 5]])\n",
    "\n",
    "A1 + B1\n",
    "A1.dot(B1)\n",
    "B1.dot(A1)"
   ]
  },
  {
   "cell_type": "code",
   "execution_count": 2,
   "metadata": {},
   "outputs": [
    {
     "data": {
      "text/plain": [
       "array([[11, -5],\n",
       "       [ 9, 24]])"
      ]
     },
     "execution_count": 2,
     "metadata": {},
     "output_type": "execute_result"
    }
   ],
   "source": [
    "# Task 1.3\n",
    "\n",
    "A = [[1, 7], [3, 6]]\n",
    "B = [[0, 5], [2, -1]]\n",
    "C = [[2, -4], [1, 1]]\n",
    "\n",
    "m_sum(m_sum(const_multiply(3, A), const_multiply(-2, B)), const_multiply(4, C))\n",
    "\n",
    "# Проверка NumPy\n",
    "\n",
    "A1 = np.array([[1, 7], [3, 6]])\n",
    "B1 = np.array([[0, 5], [2, -1]])\n",
    "C1 = np.array([[2, -4], [1, 1]])\n",
    "\n",
    "3 * A1 + (-2) * B1 + 4 * C1\n"
   ]
  },
  {
   "cell_type": "code",
   "execution_count": 3,
   "metadata": {},
   "outputs": [
    {
     "data": {
      "text/plain": [
       "array([[45,  0],\n",
       "       [ 0, 14]])"
      ]
     },
     "execution_count": 3,
     "metadata": {},
     "output_type": "execute_result"
    }
   ],
   "source": [
    "# Task 1.4\n",
    "\n",
    "A = [[4, 1], [5, -2], [2, 3]]\n",
    "\n",
    "AAT = multiply(A, transpose(A))\n",
    "ATA = multiply(transpose(A), A)\n",
    "\n",
    "AAT\n",
    "ATA\n",
    "\n",
    "\n",
    "# Проверка через NumPy\n",
    "\n",
    "A1 = np.array([[4, 1], [5, -2], [2, 3]])\n",
    "\n",
    "A1.dot(A1.T)\n",
    "A1.T.dot(A1)"
   ]
  },
  {
   "cell_type": "code",
   "execution_count": 4,
   "metadata": {},
   "outputs": [],
   "source": [
    "# Task 2.1\n",
    "\n",
    "from numpy import linalg\n",
    "\n",
    "# a - sin(x) * sin(x) + cos(x) * cos(x) = 1\n",
    "\n",
    "# б - 4 * 5 *9 = 180\n",
    "\n",
    "# в - отнимая от третьей строки вторую и от второй - первую, получим две строки со всеми значениями равным числу \"3\". \n",
    "# По признаку того, что две строки равны друг другу, определитель равен: \"0\"\n"
   ]
  },
  {
   "cell_type": "code",
   "execution_count": 96,
   "metadata": {},
   "outputs": [],
   "source": [
    "# Task 2.2\n",
    "\n",
    "# a - по свойству det(AB) = det(A) * det(B) вычисляем det(A^2): det(A^2) = det(A) * det(A) = 4 * 4 = 16\n",
    "\n",
    "# б - по свойству det(AT) = det(A) получим, что det(AT) = 4\n",
    "\n",
    "# в - при вычислении определителя матрицы, умноженной в два раза, все слогаемые будут в два раза больше. \n",
    "# Двойку можно вынести за скобки и получится, что определитель матрицы 2 * А будет равен двойному определителю обычной матрицы А\n",
    "# Ответ: \"8\""
   ]
  },
  {
   "cell_type": "code",
   "execution_count": 97,
   "metadata": {},
   "outputs": [],
   "source": [
    "# Task 2.3\n",
    "\n",
    "# Вторую строку можно выразить, как первую строку, умноженную на число (-2). \n",
    "# По свойству линейной зависимости строк, определитель матрицы равен нулю, что является признаком выражденности"
   ]
  },
  {
   "cell_type": "code",
   "execution_count": 5,
   "metadata": {},
   "outputs": [
    {
     "data": {
      "text/plain": [
       "3"
      ]
     },
     "execution_count": 5,
     "metadata": {},
     "output_type": "execute_result"
    }
   ],
   "source": [
    "# Task 2.4\n",
    "\n",
    "# а - третья строка матрицы является линейной комбинацией первой и второй (сложение), поэтому отбросим ей.\n",
    "# остаются две линейно независимые строки. Соответственно, ранг матрицы равен \"2\"\n",
    "\n",
    "# Проверка\n",
    "\n",
    "A2 = np.array([[1, 2, 3], [1, 1, 1], [2, 3, 4]])\n",
    "linalg.matrix_rank(A2)\n",
    "\n",
    "\n",
    "# б - третья строка является суммой первой и второй строк, отбросим её. Остаются три линейно независимые строки. \n",
    "# Соответственно, ранг матрицы равен \"3\"\n",
    "\n",
    "A3 = np.array([[0, 0, 2, 1], [0, 0, 2, 2], [0, 0, 4, 3], [2, 3, 5, 6]])\n",
    "linalg.matrix_rank(A3)\n"
   ]
  }
 ],
 "metadata": {
  "kernelspec": {
   "display_name": "Python 3",
   "language": "python",
   "name": "python3"
  },
  "language_info": {
   "codemirror_mode": {
    "name": "ipython",
    "version": 3
   },
   "file_extension": ".py",
   "mimetype": "text/x-python",
   "name": "python",
   "nbconvert_exporter": "python",
   "pygments_lexer": "ipython3",
   "version": "3.8.5"
  }
 },
 "nbformat": 4,
 "nbformat_minor": 4
}
